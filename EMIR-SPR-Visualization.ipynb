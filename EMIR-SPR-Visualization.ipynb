{
 "cells": [
  {
   "cell_type": "code",
   "execution_count": 1,
   "metadata": {},
   "outputs": [],
   "source": [
    "from manim import *"
   ]
  },
  {
   "cell_type": "code",
   "execution_count": 2,
   "metadata": {
    "colab": {
     "base_uri": "https://localhost:8080/",
     "height": 582
    },
    "executionInfo": {
     "elapsed": 12388,
     "status": "ok",
     "timestamp": 1741200907024,
     "user": {
      "displayName": "Akarshan Arora",
      "userId": "15826723210610723386"
     },
     "user_tz": -330
    },
    "id": "nfBYWP5C81jm",
    "outputId": "83d6c3e9-639c-4aca-ba5a-86779e50d98c"
   },
   "outputs": [
    {
     "data": {
      "text/html": [
       "<pre style=\"white-space:pre;overflow-x:auto;line-height:normal;font-family:Menlo,'DejaVu Sans Mono',consolas,'Courier New',monospace\">Manim Community <span style=\"color: #008000; text-decoration-color: #008000\">v0.19.0</span>\n",
       "\n",
       "</pre>\n"
      ],
      "text/plain": [
       "Manim Community \u001b[32mv0.\u001b[0m\u001b[32m19.0\u001b[0m\n",
       "\n"
      ]
     },
     "metadata": {},
     "output_type": "display_data"
    },
    {
     "name": "stderr",
     "output_type": "stream",
     "text": [
      "                                                                                                                                                                                            "
     ]
    },
    {
     "data": {
      "text/html": [
       "<video src=\"media/jupyter/SPR@2025-03-07@10-56-23.mp4\" controls autoplay loop style=\"max-width: 60%;\"  >\n",
       "      Your browser does not support the <code>video</code> element.\n",
       "    </video>"
      ],
      "text/plain": [
       "<IPython.core.display.Video object>"
      ]
     },
     "metadata": {},
     "output_type": "display_data"
    }
   ],
   "source": [
    "%%manim -qm -v WARNING SPR\n",
    "\n",
    "from manim import *\n",
    "import networkx as nx\n",
    "\n",
    "from manim import *\n",
    "import networkx as nx\n",
    "import random\n",
    "\n",
    "class SPR(Scene):\n",
    "    def construct(self):\n",
    "        # Step 1: Define Instances (Squares) and Bumps (Circles)\n",
    "        instances = {\n",
    "            \"A\": Square(0.5, color=BLUE).move_to([-4, 3, 0]),\n",
    "            \"B\": Square(0.5, color=GREEN).move_to([-2, 3, 0]),\n",
    "            \"C\": Square(0.5, color=RED).move_to([0, 3, 0]),\n",
    "            \"D\": Square(0.5, color=ORANGE).move_to([2, 3, 0]),\n",
    "            \"E\": Square(0.5, color=PINK).move_to([4, 3, 0])\n",
    "        }\n",
    "\n",
    "        bumps = {\n",
    "            \"X\": Circle(radius=0.3, color=WHITE, fill_opacity=1).move_to([-3, -3, 0]),\n",
    "            \"Y\": Circle(radius=0.3, color=WHITE, fill_opacity=1).move_to([3, -3, 0]),\n",
    "        }\n",
    "\n",
    "        # Step 2: Define Connection Nodes (Small Circles)\n",
    "        nodes = {\n",
    "            \"N1\": Dot(point=[-4, 1, 0], color=YELLOW),\n",
    "            \"N2\": Dot(point=[-2, 1, 0], color=YELLOW),\n",
    "            \"N3\": Dot(point=[0, 1, 0], color=YELLOW),\n",
    "            \"N4\": Dot(point=[2, 1, 0], color=YELLOW),\n",
    "            \"N5\": Dot(point=[4, 1, 0], color=YELLOW),\n",
    "            \"M1\": Dot(point=[-3, -1, 0], color=YELLOW),\n",
    "            \"M2\": Dot(point=[3, -1, 0], color=YELLOW),\n",
    "        }\n",
    "\n",
    "        # Merge all elements into a single lookup dictionary\n",
    "        elements = {**instances, **nodes, **bumps}\n",
    "\n",
    "        # Step 3: Create Graph with Resistances (Weights)\n",
    "        G = nx.Graph()\n",
    "        edges = [\n",
    "            (\"A\", \"N1\", 2), (\"N1\", \"N2\", 1), (\"N2\", \"B\", 2),\n",
    "            (\"B\", \"N3\", 3), (\"N3\", \"C\", 1), (\"C\", \"N4\", 2),\n",
    "            (\"N4\", \"D\", 3), (\"D\", \"N5\", 2), (\"N5\", \"E\", 1),\n",
    "            (\"N1\", \"M1\", 3), (\"N3\", \"M2\", 3),\n",
    "            (\"M1\", \"X\", 2), (\"M2\", \"Y\", 2),\n",
    "        ]\n",
    "\n",
    "        for u, v, w in edges:\n",
    "            G.add_edge(u, v, weight=w)\n",
    "\n",
    "        # Step 4: Draw All Elements\n",
    "        self.play(*[Create(inst) for inst in instances.values()])\n",
    "        self.play(*[Create(bump) for bump in bumps.values()])\n",
    "        self.play(*[Create(node) for node in nodes.values()])\n",
    "\n",
    "        # Label Instances\n",
    "        instance_labels = [Text(k, font_size=24).next_to(v, UP) for k, v in instances.items()]\n",
    "        self.play(*[Write(label) for label in instance_labels])\n",
    "\n",
    "        # Draw Nets (Edges) with Resistance Labels\n",
    "        edges_visual = []\n",
    "        edge_labels = []\n",
    "        for u, v, w in edges:\n",
    "            if u in elements and v in elements:\n",
    "                edge = Line(elements[u].get_center(), elements[v].get_center(), color=GRAY)\n",
    "                edges_visual.append(edge)\n",
    "                label = Text(str(w), font_size=20, color=WHITE).move_to((elements[u].get_center() + elements[v].get_center()) / 2)\n",
    "                edge_labels.append(label)\n",
    "\n",
    "        self.play(*[Create(edge) for edge in edges_visual])\n",
    "        self.play(*[Write(label) for label in edge_labels])\n",
    "\n",
    "        self.wait(1)\n",
    "\n",
    "        # Step 5: Compute Shortest Path using Dijkstra\n",
    "        shortest_path = nx.shortest_path(G, source=\"A\", target=\"X\", weight=\"weight\")\n",
    "\n",
    "        # Step 6: Highlight All Choices Before Selecting Final Path\n",
    "        for i in range(len(shortest_path) - 1):\n",
    "            start = elements[shortest_path[i]].get_center()\n",
    "            end = elements[shortest_path[i+1]].get_center()\n",
    "            all_choices = [Line(start, elements[v].get_center(), color=random.choice([BLUE, GREEN, RED, ORANGE, PINK]))\n",
    "                           for v in G.neighbors(shortest_path[i])]\n",
    "            self.play(*[Create(choice) for choice in all_choices], run_time=0.5)\n",
    "            self.wait(0.3)\n",
    "            self.play(*[FadeOut(choice) for choice in all_choices], run_time=0.3)\n",
    "            chosen_edge = Line(start, end, color=YELLOW)\n",
    "            self.play(Create(chosen_edge), run_time=0.8)\n",
    "\n",
    "        self.wait(2)\n",
    "\n",
    "\n"
   ]
  },
  {
   "cell_type": "code",
   "execution_count": 6,
   "metadata": {
    "colab": {
     "base_uri": "https://localhost:8080/",
     "height": 582,
     "output_embedded_package_id": "1mK5l-ZSxi6Yt1r4a8lssovGCAZ81afcj"
    },
    "executionInfo": {
     "elapsed": 177655,
     "status": "ok",
     "timestamp": 1741205199473,
     "user": {
      "displayName": "Akarshan Arora",
      "userId": "15826723210610723386"
     },
     "user_tz": -330
    },
    "id": "oy-49gGR5oE_",
    "outputId": "1477d49d-5460-48e7-c513-c943b35a8109"
   },
   "outputs": [
    {
     "data": {
      "text/html": [
       "<pre style=\"white-space:pre;overflow-x:auto;line-height:normal;font-family:Menlo,'DejaVu Sans Mono',consolas,'Courier New',monospace\">Manim Community <span style=\"color: #008000; text-decoration-color: #008000\">v0.19.0</span>\n",
       "\n",
       "</pre>\n"
      ],
      "text/plain": [
       "Manim Community \u001b[32mv0.\u001b[0m\u001b[32m19.0\u001b[0m\n",
       "\n"
      ]
     },
     "metadata": {},
     "output_type": "display_data"
    },
    {
     "name": "stderr",
     "output_type": "stream",
     "text": [
      "                                                                                                                                                                                            "
     ]
    },
    {
     "data": {
      "text/html": [
       "<video src=\"media/jupyter/SPR@2025-03-07@11-20-32.mp4\" controls autoplay loop style=\"max-width: 60%;\"  >\n",
       "      Your browser does not support the <code>video</code> element.\n",
       "    </video>"
      ],
      "text/plain": [
       "<IPython.core.display.Video object>"
      ]
     },
     "metadata": {},
     "output_type": "display_data"
    }
   ],
   "source": [
    "%%manim -qm -v WARNING SPR\n",
    "\n",
    "from manim import *\n",
    "import networkx as nx\n",
    "import random\n",
    "import numpy as np\n",
    "\n",
    "class SPR(Scene):\n",
    "    def construct(self):\n",
    "        # Step 1: Define Instances (Squares) and Bumps (Circles)\n",
    "\n",
    "        self.camera.frame_width *= 1.2\n",
    "        self.camera.frame_height *= 1.2\n",
    "        stroke_width = 15\n",
    "        \n",
    "        instances = {\n",
    "            \"A\": Square(0.5, color=BLUE).move_to([-4, 3, 0]),\n",
    "            \"B\": Square(0.5, color=GREEN).move_to([-2, 3, 0]),\n",
    "            \"C\": Square(0.5, color=RED).move_to([0, 3, 0]),\n",
    "            \"D\": Square(0.5, color=ORANGE).move_to([2, 3, 0]),\n",
    "            \"E\": Square(0.5, color=PINK).move_to([4, 3, 0])\n",
    "        }\n",
    "\n",
    "        bumps = {\n",
    "            \"X\": Circle(radius=0.3, color=WHITE, fill_opacity=1).move_to([-3, -4, 0]),\n",
    "            \"Y\": Circle(radius=0.3, color=WHITE, fill_opacity=1).move_to([3, -4, 0]),\n",
    "        }\n",
    "\n",
    "        virtual_ground = \"VG\"\n",
    "\n",
    "        # Step 2: Define Nodes in a Grid Layout\n",
    "        grid_size = 5\n",
    "        node_spacing = 2\n",
    "        nodes = {}\n",
    "        for i in range(grid_size):\n",
    "            for j in range(grid_size):\n",
    "                node_name = f\"N{i}{j}\"\n",
    "                nodes[node_name] = Dot(point=[-4 + j * node_spacing, 2 - i * node_spacing, 0], color=YELLOW, radius=0.15)\n",
    "\n",
    "        # Merge all elements into a single lookup dictionary\n",
    "        elements = {**instances, **nodes, **bumps}\n",
    "\n",
    "        # Step 3: Create Graph with Resistances (Weights)\n",
    "        G = nx.Graph()\n",
    "        edges = []\n",
    "\n",
    "        # Connect instances to nearest nodes\n",
    "        for inst in instances:\n",
    "            closest_node = min(nodes.keys(), key=lambda n: np.linalg.norm(np.array(instances[inst].get_center()) - np.array(nodes[n].get_center())))\n",
    "            resistance = random.randint(2, 6)\n",
    "            edges.append((inst, closest_node, resistance))\n",
    "            G.add_edge(inst, closest_node, weight=resistance)\n",
    "\n",
    "        # Connect nodes in a grid pattern\n",
    "        for i in range(grid_size):\n",
    "            for j in range(grid_size):\n",
    "                node = f\"N{i}{j}\"\n",
    "                if j < grid_size - 1:  # Connect right\n",
    "                    right_node = f\"N{i}{j+1}\"\n",
    "                    resistance = random.randint(2, 6)\n",
    "                    edges.append((node, right_node, resistance))\n",
    "                    G.add_edge(node, right_node, weight=resistance)\n",
    "                if i < grid_size - 1:  # Connect down\n",
    "                    down_node = f\"N{i+1}{j}\"\n",
    "                    resistance = random.randint(2, 6)\n",
    "                    edges.append((node, down_node, resistance))\n",
    "                    G.add_edge(node, down_node, weight=resistance)\n",
    "\n",
    "        # Connect nodes to bumps with proper resistance and isolation\n",
    "        for bump in bumps:\n",
    "            closest_node = min(nodes.keys(), key=lambda n: np.linalg.norm(np.array(bumps[bump].get_center()) - np.array(nodes[n].get_center())))\n",
    "            resistance = random.randint(3, 7)\n",
    "            edges.append((closest_node, bump, resistance))\n",
    "            G.add_edge(closest_node, bump, weight=resistance)\n",
    "\n",
    "            # Connect bump to virtual ground with low resistance\n",
    "            edges.append((bump, virtual_ground, 0.00001))\n",
    "            G.add_edge(bump, virtual_ground, weight=0.00001)\n",
    "\n",
    "        # Step 4: Draw All Elements\n",
    "        self.play(*[Create(inst) for inst in instances.values()])\n",
    "        self.play(*[Create(bump) for bump in bumps.values()])\n",
    "        self.play(*[Create(node) for node in nodes.values()])\n",
    "\n",
    "        # Label Instances\n",
    "        instance_labels = [Text(k, font_size=24).next_to(v, UP * 1.5) for k, v in instances.items()]\n",
    "        self.play(*[Write(label) for label in instance_labels])\n",
    "\n",
    "        # Draw Nets (Edges) with Resistance Labels\n",
    "        edges_visual = []\n",
    "        edge_labels = []\n",
    "        for u, v, w in edges:\n",
    "            if u in elements and v in elements:\n",
    "                edge = Line(elements[u].get_center(), elements[v].get_center(), color=GRAY)\n",
    "                edges_visual.append(edge)\n",
    "                label = Text(str(w), font_size=20, color=WHITE).move_to((elements[u].get_center() + elements[v].get_center()) / 2)\n",
    "                edge_labels.append(label)\n",
    "\n",
    "        self.play(*[Create(edge) for edge in edges_visual])\n",
    "        self.play(*[Write(label) for label in edge_labels])\n",
    "\n",
    "        self.wait(1)\n",
    "\n",
    "        # Step 5: Compute and Display Shortest Path for Each Instance\n",
    "        for inst in instances:\n",
    "            info_text = Text(f\"Starting visualization of SPR for instance {inst}\", font_size=24).to_edge(UP)\n",
    "            self.play(Write(info_text))\n",
    "            shortest_path = nx.shortest_path(G, source=inst, target=virtual_ground, weight=\"weight\")\n",
    "\n",
    "            # Stop animation at the bump\n",
    "            for i in range(len(shortest_path) - 2):\n",
    "                start = elements[shortest_path[i]].get_center()\n",
    "                end = elements[shortest_path[i+1]].get_center()\n",
    "                all_choices = [Line(start, elements[v].get_center(), color=random.choice([BLUE, GREEN, RED, ORANGE, PINK]))\n",
    "                               for v in G.neighbors(shortest_path[i]) if v in elements]\n",
    "                self.play(*[Create(choice) for choice in all_choices], run_time=0.7)\n",
    "                self.wait(0.4)\n",
    "                self.play(*[FadeOut(choice) for choice in all_choices], run_time=0.4)\n",
    "                chosen_edge = Line(start, end, color=YELLOW)\n",
    "                self.play(Create(chosen_edge), run_time=1.0)\n",
    "\n",
    "            self.wait(1)\n",
    "            self.play(FadeOut(info_text))\n",
    "\n",
    "        self.wait(2)\n"
   ]
  },
  {
   "cell_type": "code",
   "execution_count": null,
   "metadata": {},
   "outputs": [],
   "source": []
  }
 ],
 "metadata": {
  "colab": {
   "authorship_tag": "ABX9TyM+u6lAV92mCKZWH1HZGxju",
   "provenance": []
  },
  "kernelspec": {
   "display_name": "Python 3 (ipykernel)",
   "language": "python",
   "name": "python3"
  },
  "language_info": {
   "codemirror_mode": {
    "name": "ipython",
    "version": 3
   },
   "file_extension": ".py",
   "mimetype": "text/x-python",
   "name": "python",
   "nbconvert_exporter": "python",
   "pygments_lexer": "ipython3",
   "version": "3.12.3"
  }
 },
 "nbformat": 4,
 "nbformat_minor": 4
}
